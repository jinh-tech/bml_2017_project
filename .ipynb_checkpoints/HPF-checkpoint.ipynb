{
 "cells": [
  {
   "cell_type": "code",
   "execution_count": 1,
   "metadata": {
    "collapsed": false
   },
   "outputs": [],
   "source": [
    "from __future__ import absolute_import\n",
    "from __future__ import division\n",
    "from __future__ import print_function\n",
    "\n",
    "import edward as ed\n",
    "import matplotlib.pyplot as plt\n",
    "import numpy as np\n",
    "import tensorflow as tf\n",
    "import math\n",
    "\n",
    "from os import listdir\n",
    "from os.path import isfile, join\n",
    "import os.path\n",
    "import random\n",
    "import scipy.special as sp\n",
    "\n",
    "from edward.models import Poisson,Gamma\n",
    "\n",
    "plt.style.use('ggplot')"
   ]
  },
  {
   "cell_type": "code",
   "execution_count": 2,
   "metadata": {
    "collapsed": false
   },
   "outputs": [],
   "source": [
    "X = np.loadtxt('./pre_processed_data/bibtex/X_train.txt',delimiter=',')\n",
    "train_mask = np.loadtxt('./pre_processed_data/bibtex/x_train_mask.txt')\n",
    "y = X*train_mask\n",
    "tot = 101\n",
    "ndcg = []"
   ]
  },
  {
   "cell_type": "code",
   "execution_count": 3,
   "metadata": {
    "collapsed": true
   },
   "outputs": [],
   "source": [
    "def ndcg_score(result):\n",
    "        \n",
    "    ndcg.append(0)\n",
    "    for i in range(0,users):\n",
    "        sort_index = np.argsort(result[i])[::-1]\n",
    "        score = 0\n",
    "        norm = 0\n",
    "        count = 1\n",
    "        \n",
    "        for j in range(0,items):\n",
    "                if train_mask[i,sort_index[j]] == 0 and X[i,sort_index[j]] == 1:\n",
    "                    count += 1\n",
    "                    norm += 1.0/np.log2(count)\n",
    "                    score += 1.0/np.log2(j+2)\n",
    "        if norm != 0:\n",
    "            ndcg[-1] += score/norm\n",
    "        else:\n",
    "            ndcg[-1] += 0\n",
    "    ndcg[-1] /= users\n",
    "    print \"Score is %f \"%ndcg"
   ]
  },
  {
   "cell_type": "code",
   "execution_count": 4,
   "metadata": {
    "collapsed": true
   },
   "outputs": [],
   "source": [
    "def non_zero_entries(mat):\n",
    "    indices = []\n",
    "    for i in range(0,mat.shape[0]):\n",
    "        for j in range(0,mat.shape[1]):\n",
    "            if mat[i,j] > 0:\n",
    "                indices.append((i,j))\n",
    "    return indices"
   ]
  },
  {
   "cell_type": "code",
   "execution_count": 5,
   "metadata": {
    "collapsed": true
   },
   "outputs": [],
   "source": [
    "def check():\n",
    "    q_theta = Gamma(gam_shp,gam_rte)\n",
    "    q_beta = Gamma(lam_shp,lam_rte)\n",
    "    sess = tf.InteractiveSession()\n",
    "    init = tf.global_variables_initializer()\n",
    "    init.run()\n",
    "    no_sample = 100\n",
    "    beta_sample = q_beta.sample(no_sample).eval()\n",
    "    theta_sample = q_theta.sample(no_sample).eval()\n",
    "    result = np.zeros([users,items])\n",
    "    for i in range(0,no_sample):\n",
    "        result = np.add(result,np.matmul(theta_sample[i],np.transpose(beta_sample[i])))\n",
    "    result /= no_sample\n",
    "    #mae(t,result)\n",
    "    ndcg_score(result)"
   ]
  },
  {
   "cell_type": "code",
   "execution_count": 6,
   "metadata": {
    "collapsed": false
   },
   "outputs": [],
   "source": [
    "K = 5\n",
    "users = X.shape[0]\n",
    "items = X.shape[1]\n",
    "a = a_c = c = c_c = 0.3\n",
    "b_c = d_c = 1.0      "
   ]
  },
  {
   "cell_type": "code",
   "execution_count": 7,
   "metadata": {
    "collapsed": false
   },
   "outputs": [],
   "source": [
    "kappa_shp =  np.random.uniform(low=0.1,size=users)\n",
    "kappa_rte = np.random.uniform(low=0.1,size=users)\n",
    "tau_shp = np.random.uniform(low=0.1,size=items)\n",
    "tau_rte = np.random.uniform(low=0.1,size=items)\n",
    "phi = np.zeros([users,items,K])\n",
    "gam_shp = np.random.uniform(low=0.1,size=[users,K])\n",
    "gam_rte = np.random.uniform(low=0.1,size=[users,K])\n",
    "lam_shp = np.random.uniform(low=0.1,size=[items,K])\n",
    "lam_rte = np.random.uniform(low=0.1,size=[items,K])\n",
    "non_zero_indices = non_zero_entries(y)    "
   ]
  },
  {
   "cell_type": "code",
   "execution_count": 8,
   "metadata": {
    "collapsed": false
   },
   "outputs": [
    {
     "name": "stdout",
     "output_type": "stream",
     "text": [
      "263577\n"
     ]
    }
   ],
   "source": [
    "print(len(non_zero_indices))"
   ]
  },
  {
   "cell_type": "code",
   "execution_count": 9,
   "metadata": {
    "collapsed": false,
    "scrolled": true
   },
   "outputs": [
    {
     "name": "stdout",
     "output_type": "stream",
     "text": [
      "0\n",
      "1\n",
      "2\n",
      "3\n",
      "4\n",
      "5\n",
      "6\n",
      "7\n",
      "8\n",
      "9\n",
      "10\n",
      "11\n",
      "12\n",
      "13\n",
      "14\n",
      "15\n",
      "16\n",
      "17\n",
      "18\n",
      "19\n",
      "20\n",
      "21\n",
      "22\n",
      "23\n",
      "24\n",
      "25\n",
      "26\n",
      "27\n",
      "28\n",
      "29\n",
      "30\n",
      "31\n",
      "32\n",
      "33\n",
      "34\n",
      "35\n",
      "36\n",
      "37\n",
      "38\n",
      "39\n",
      "40\n",
      "41\n",
      "42\n",
      "43\n",
      "44\n",
      "45\n",
      "46\n",
      "47\n",
      "48\n",
      "49\n",
      "50\n",
      "51\n",
      "52\n",
      "53\n",
      "54\n",
      "55\n",
      "56\n",
      "57\n",
      "58\n",
      "59\n",
      "60\n",
      "61\n",
      "62\n",
      "63\n",
      "64\n",
      "65\n",
      "66\n",
      "67\n",
      "68\n",
      "69\n",
      "70\n",
      "71\n",
      "72\n",
      "73\n",
      "74\n",
      "75\n",
      "76\n",
      "77\n",
      "78\n",
      "79\n",
      "80\n",
      "81\n",
      "82\n",
      "83\n",
      "84\n",
      "85\n",
      "86\n",
      "87\n",
      "88\n",
      "89\n",
      "90\n",
      "91\n",
      "92\n",
      "93\n",
      "94\n",
      "95\n",
      "96\n",
      "97\n",
      "98\n",
      "99\n",
      "100\n"
     ]
    }
   ],
   "source": [
    "for u in range(0,users):\n",
    "    kappa_shp[u] = a_c + K*a\n",
    "for i in range(0,items):\n",
    "    tau_shp[i] = c_c + K*c\n",
    "\n",
    "    \n",
    "for ite in range(0,tot):\n",
    "\n",
    "    if ite%1==0:\n",
    "        print(ite)\n",
    "        \n",
    "    \n",
    "    for ui in non_zero_indices:\n",
    "        u = ui[0]\n",
    "        i = ui[1]\n",
    "        phi[u,i,:]= np.exp(sp.digamma(gam_shp[u,:])-np.log(gam_rte[u,:])+sp.digamma(lam_shp[i,:])-np.log(lam_rte[i,:]))\n",
    "        norm = np.sum(phi[u,i,:])\n",
    "        phi[u,i,:] = phi[u,i,:]/norm\n",
    "    \n",
    "    for u in range(0,users):\n",
    "        for k in range(0,K):\n",
    "            gam_shp[u,k] = a + np.inner(y[u,:],phi[u,:,k])\n",
    "            gam_rte[u,k] = (kappa_shp[u]/kappa_rte[u]) + np.sum(lam_shp[:,k]/lam_rte[:,k])\n",
    "        kappa_rte[u] = (a_c/b_c) + np.sum(gam_shp[u,:]/gam_rte[u,:])\n",
    "    \n",
    "    for i in range(0,items):\n",
    "        for k in range(0,K):\n",
    "            lam_shp[i,k] = c + np.inner(y[:,i],phi[:,i,k])\n",
    "            lam_rte[i,k] = (tau_shp[i]/tau_rte[i]) + np.sum(gam_shp[:,k]/gam_rte[:,k])\n",
    "        tau_rte[i] = (c_c/d_c) + np.sum(lam_shp[i,:]/lam_rte[i,:])\n",
    "    \n",
    "    if ite%10 == 0:\n",
    "        check()"
   ]
  },
  {
   "cell_type": "code",
   "execution_count": 10,
   "metadata": {
    "collapsed": false
   },
   "outputs": [
    {
     "data": {
      "image/png": "[encoded data removed]",
      "text/plain": [
       "<matplotlib.figure.Figure at 0x7eff5ca7d850>"
      ]
     },
     "metadata": {},
     "output_type": "display_data"
    }
   ],
   "source": [
    "plt.plot(ndcg)\n",
    "plt.show()\n",
    "#np.savetxt(\"mae_s_y_k20.txt\",mae_val)"
   ]
  }
 ],
 "metadata": {
  "anaconda-cloud": {},
  "kernelspec": {
   "display_name": "Python [conda env:bml]",
   "language": "python",
   "name": "conda-env-bml-py"
  },
  "language_info": {
   "codemirror_mode": {
    "name": "ipython",
    "version": 2
   },
   "file_extension": ".py",
   "mimetype": "text/x-python",
   "name": "python",
   "nbconvert_exporter": "python",
   "pygments_lexer": "ipython2",
   "version": "2.7.13"
  }
 },
 "nbformat": 4,
 "nbformat_minor": 1
}
