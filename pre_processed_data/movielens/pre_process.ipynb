{
 "cells": [
  {
   "cell_type": "code",
   "execution_count": 7,
   "metadata": {
    "collapsed": true
   },
   "outputs": [],
   "source": [
    "import numpy as np"
   ]
  },
  {
   "cell_type": "code",
   "execution_count": 8,
   "metadata": {
    "collapsed": true
   },
   "outputs": [],
   "source": [
    "def movielens(binary,threshold):\n",
    "    file_path = '../../data/movielens/X.txt'\n",
    "    train_mask_file = '../../data/movielens/train_mask.txt'\n",
    "    test_mask_file = '../../data/movielens/test_mask.txt'\n",
    "    X = np.loadtxt(file_path)\n",
    "    x_train = np.array(X)\n",
    "    train_mask = np.loadtxt(train_mask_file)\n",
    "    test_mask = np.loadtxt(test_mask_file)\n",
    "    \n",
    "    for i in range(0,X.shape[0]):\n",
    "        for j in range(0,X.shape[1]):\n",
    "            if train_mask[i][j] == 0:\n",
    "                x_train[i][j] = 0\n",
    "\n",
    "    \n",
    "    if binary == False:\n",
    "        return x_train,X,test_mask,train_mask\n",
    "    \n",
    "    for i in range(0,X.shape[0]):\n",
    "        for j in range(0,X.shape[1]):\n",
    "            if x_train[i][j] <= threshold:\n",
    "                x_train[i][j] = 0\n",
    "            else:\n",
    "                x_train[i][j] = 1\n",
    "                \n",
    "    for i in range(0,X.shape[0]):\n",
    "        for j in range(0,X.shape[1]):\n",
    "            if X[i][j] <= threshold:\n",
    "                X[i][j] = 0\n",
    "            else:\n",
    "                X[i][j] = 1\n",
    "    \n",
    "    return x_train,X,test_mask,train_mask"
   ]
  },
  {
   "cell_type": "code",
   "execution_count": 9,
   "metadata": {
    "collapsed": false
   },
   "outputs": [],
   "source": [
    "x_train,X_full,test_mask,train_mask = movielens(True,0)"
   ]
  },
  {
   "cell_type": "code",
   "execution_count": 11,
   "metadata": {
    "collapsed": true
   },
   "outputs": [],
   "source": [
    "np.savetxt(\"x_train_explicit\",x_train,fmt=\"%d\",delimiter=' ')\n",
    "np.savetxt(\"x_full_explicit\",X_full,fmt=\"%d\",delimiter=' ')\n"
   ]
  },
  {
   "cell_type": "code",
   "execution_count": null,
   "metadata": {
    "collapsed": true
   },
   "outputs": [],
   "source": [
    "np.savetxt(\"test_mask\",test_mask,fmt=\"%d\",delimiter=' ')\n",
    "np.savetxt(\"train_mask\",train_mask,fmt=\"%d\",delimiter=' ')"
   ]
  }
 ],
 "metadata": {
  "anaconda-cloud": {},
  "kernelspec": {
   "display_name": "Python [conda env:bml]",
   "language": "python",
   "name": "conda-env-bml-py"
  },
  "language_info": {
   "codemirror_mode": {
    "name": "ipython",
    "version": 2
   },
   "file_extension": ".py",
   "mimetype": "text/x-python",
   "name": "python",
   "nbconvert_exporter": "python",
   "pygments_lexer": "ipython2",
   "version": "2.7.13"
  }
 },
 "nbformat": 4,
 "nbformat_minor": 2
}
