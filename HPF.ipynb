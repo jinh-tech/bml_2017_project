{
 "cells": [
  {
   "cell_type": "code",
   "execution_count": 1,
   "metadata": {
    "collapsed": false
   },
   "outputs": [],
   "source": [
    "from __future__ import absolute_import\n",
    "from __future__ import division\n",
    "from __future__ import print_function\n",
    "\n",
    "import edward as ed\n",
    "import matplotlib.pyplot as plt\n",
    "import numpy as np\n",
    "import tensorflow as tf\n",
    "\n",
    "from os import listdir\n",
    "from os.path import isfile, join\n",
    "import os.path\n",
    "import random\n",
    "\n",
    "from edward.models import Poisson,Gamma\n",
    "\n",
    "plt.style.use('ggplot')"
   ]
  },
  {
   "cell_type": "code",
   "execution_count": 2,
   "metadata": {
    "collapsed": true
   },
   "outputs": [],
   "source": [
    "def movielens(binary,threshold):\n",
    "    file_path = 'data/movielens/X.txt'\n",
    "    train_mask_file = 'data/movielens/train_mask.txt'\n",
    "    test_mask_file = 'data/movielens/test_mask.txt'\n",
    "    X = np.loadtxt(file_path)\n",
    "    x_train = np.array(X)\n",
    "    train_mask = np.loadtxt(train_mask_file)\n",
    "    test_mask = np.loadtxt(test_mask_file)\n",
    "    \n",
    "    for i in range(0,X.shape[0]):\n",
    "        for j in range(0,X.shape[1]):\n",
    "            if train_mask[i][j] == 0:\n",
    "                x_train[i][j] = 0\n",
    "\n",
    "    \n",
    "    if binary == False:\n",
    "        return x_train,X,test_mask\n",
    "    \n",
    "    for i in range(0,X.shape[0]):\n",
    "        for j in range(0,X.shape[1]):\n",
    "            if x_train[i][j] <= threshold:\n",
    "                x_train[i][j] = 0\n",
    "            else:\n",
    "                x_train[i][j] = 1\n",
    "                \n",
    "    return x_train,X,test_mask"
   ]
  },
  {
   "cell_type": "code",
   "execution_count": 3,
   "metadata": {
    "collapsed": true
   },
   "outputs": [],
   "source": [
    "x_train,X_full,test_mask = movielens(True,0)\n",
    "k = 20"
   ]
  },
  {
   "cell_type": "code",
   "execution_count": 8,
   "metadata": {
    "collapsed": false
   },
   "outputs": [
    {
     "name": "stdout",
     "output_type": "stream",
     "text": [
      "300/300 [100%] ██████████████████████████████ Elapsed: 13s | Loss: nan\n"
     ]
    }
   ],
   "source": [
    "users = X_full.shape[0]\n",
    "movies = X_full.shape[1]\n",
    "a = a_c = c = c_c = 0.3\n",
    "b_c = d_c = 1.0\n",
    "scale = 0.0001\n",
    "\n",
    "eu = Gamma(a_c*tf.ones([users,k]),(a_c/b_c)*tf.ones([users,k]))\n",
    "ni = Gamma(c_c*tf.ones([movies,k]),(c_c/d_c)*tf.ones([movies,k]))\n",
    "theta = Gamma(a*tf.ones([users,k]),eu)\n",
    "beta = Gamma(c*tf.ones([movies,k]),ni)\n",
    "lam1 = tf.matmul(theta,beta,transpose_b=True)\n",
    "x = Poisson(lam = lam1,value = tf.ones([users,movies]))\n",
    "\n",
    "q_eu = Gamma(tf.nn.softplus(tf.Variable(a_c*tf.ones([users,k]))),tf.nn.softplus(tf.Variable((a_c/b_c)*tf.ones([users,k]))))\n",
    "q_ni = Gamma(tf.nn.softplus(tf.Variable(c_c*tf.ones([movies,k]))),tf.nn.softplus(tf.Variable((c_c/d_c)*tf.ones([movies,k]))))\n",
    "q_theta = Gamma(tf.nn.softplus(tf.Variable(a*tf.ones([users,k]))),tf.nn.softplus(tf.Variable(eu)))\n",
    "q_beta = Gamma(tf.nn.softplus(tf.Variable(c*tf.ones([movies,k]))),tf.nn.softplus(tf.Variable(ni)))\n",
    "\n",
    "\n",
    "#q_eu = Gamma(tf.Variable(a_c*tf.ones([users,k])),tf.Variable((a_c/b_c)*tf.ones([users,k])))\n",
    "#q_ni = Gamma(tf.Variable(c_c*tf.ones([movies,k])),tf.Variable((c_c/d_c)*tf.ones([movies,k])))\n",
    "#q_theta = Gamma(tf.Variable(a*tf.ones([users,k])),tf.Variable(eu))\n",
    "#q_beta = Gamma(tf.Variable(c*tf.ones([movies,k])),tf.Variable(ni))\n",
    "\n",
    "inference = ed.KLqp({eu:q_eu,ni:q_ni,theta: q_theta,beta: q_beta},data={x:x_train})\n",
    "inference.initialize(n_samples=1,scale={eu:scale,ni:scale,theta:scale,beta:scale})\n",
    "\n",
    "\n",
    "init = tf.global_variables_initializer()\n",
    "init.run()\n",
    "#inference.run(n_iter = 300,n_print=1)\n",
    "for i in range (1,inference.n_iter):\n",
    "    inference.update()\n",
    "    inference.9\n",
    "    #if i%10 == 0:\n",
    "     #   print(i)\n"
   ]
  },
  {
   "cell_type": "code",
   "execution_count": 5,
   "metadata": {
    "collapsed": false
   },
   "outputs": [
    {
     "name": "stdout",
     "output_type": "stream",
     "text": [
      "[[[ nan  nan  nan ...,  nan  nan  nan]\n",
      "  [ nan  nan  nan ...,  nan  nan  nan]\n",
      "  [ nan  nan  nan ...,  nan  nan  nan]\n",
      "  ..., \n",
      "  [ nan  nan  nan ...,  nan  nan  nan]\n",
      "  [ nan  nan  nan ...,  nan  nan  nan]\n",
      "  [ nan  nan  nan ...,  nan  nan  nan]]]\n"
     ]
    }
   ],
   "source": [
    "print(q_theta.sample(1).eval())"
   ]
  }
 ],
 "metadata": {
  "anaconda-cloud": {},
  "kernelspec": {
   "display_name": "Python [conda env:bml]",
   "language": "python",
   "name": "conda-env-bml-py"
  },
  "language_info": {
   "codemirror_mode": {
    "name": "ipython",
    "version": 2
   },
   "file_extension": ".py",
   "mimetype": "text/x-python",
   "name": "python",
   "nbconvert_exporter": "python",
   "pygments_lexer": "ipython2",
   "version": "2.7.13"
  }
 },
 "nbformat": 4,
 "nbformat_minor": 1
}
