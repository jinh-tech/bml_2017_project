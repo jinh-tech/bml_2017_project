{
 "cells": [
  {
   "cell_type": "code",
   "execution_count": null,
   "metadata": {},
   "outputs": [],
   "source": [
    "from __future__ import absolute_import\n",
    "from __future__ import division\n",
    "from __future__ import print_function\n",
    "from scipy.misc import logsumexp\n",
    "\n",
    "import edward as ed\n",
    "import matplotlib.pyplot as plt\n",
    "import numpy as np\n",
    "import tensorflow as tf\n",
    "import math\n",
    "\n",
    "from os import listdir\n",
    "from os.path import isfile, join\n",
    "import os.path\n",
    "import random\n",
    "import scipy.special as sp\n",
    "\n",
    "from edward.models import Poisson,Gamma\n",
    "\n",
    "import cPickle as pickle\n",
    "import gc\n",
    "from sklearn.metrics import roc_auc_score as auc"
   ]
  },
  {
   "cell_type": "code",
   "execution_count": null,
   "metadata": {},
   "outputs": [],
   "source": [
    "X = np.loadtxt('./pre_processed_data/bibtex/X_train.txt',delimiter=',')\n",
    "Y = np.loadtxt('./pre_processed_data/bibtex/Y_train.txt',delimiter=',')\n",
    "x_train_mask = np.loadtxt('./pre_processed_data/bibtex/x_train_mask.txt')\n",
    "y_train_mask = np.loadtxt('./pre_processed_data/bibtex/y_train_mask.txt')\n",
    "x = X*x_train_mask\n",
    "y = Y*y_train_mask\n",
    "tot = 101\n",
    "\n",
    "mae_val = np.zeros(11)"
   ]
  },
  {
   "cell_type": "code",
   "execution_count": null,
   "metadata": {
    "collapsed": true
   },
   "outputs": [],
   "source": [
    "def mae(t,result,result1):\n",
    "    error = 0.0\n",
    "    \n",
    "    count = 0.0\n",
    "    for i in range(0,users):\n",
    "        for j in range(0,items1):\n",
    "            if x_train_mask[i,j] == 0:\n",
    "                error += abs(X[i,j]-result[i,j])\n",
    "                count += 1\n",
    "    error /= count\n",
    "    #error = math.sqrt(error)\n",
    "    \n",
    "    error1 = 0.0\n",
    "    count = 0\n",
    "    for i in range(0,users):\n",
    "        for j in range(0,items2):\n",
    "            if y_train_mask[i,j] == 0:\n",
    "                error1 += abs(Y[i,j]-result1[i,j])\n",
    "                count += 1\n",
    "    error1 /= count\n",
    "    #error = math.sqrt(error)\n",
    "    mae_val[t] = error+error1"
   ]
  },
  {
   "cell_type": "code",
   "execution_count": null,
   "metadata": {
    "collapsed": true
   },
   "outputs": [],
   "source": [
    "def comp_auc(result):\n",
    "    score = []\n",
    "    true  = []\n",
    "    for i in range(0,result.shape[0]):\n",
    "        for j in range(0,result.shape[1]):\n",
    "            if train_mask[i,j] == 0:\n",
    "                score.append(result[i,j])\n",
    "                true.append(Y[i,j])\n",
    "    print auc(true,score)"
   ]
  },
  {
   "cell_type": "code",
   "execution_count": null,
   "metadata": {},
   "outputs": [],
   "source": [
    "def check(t):\n",
    "    q_theta = Gamma(gam_shp,gam_rte)\n",
    "    q_beta1 = Gamma(lam_shp,lam_rte)\n",
    "    q_beta2 = Gamma(mu_shp,mu_rte)\n",
    "    sess = tf.InteractiveSession()\n",
    "    init = tf.global_variables_initializer()\n",
    "    init.run()\n",
    "    no_sample = 100\n",
    "    beta1_sample = q_beta1.sample(no_sample).eval()\n",
    "    beta2_sample = q_beta2.sample(no_sample).eval()\n",
    "    theta_sample = q_theta.sample(no_sample).eval()\n",
    "\n",
    "    result1 = np.zeros([users,items1])\n",
    "    result2 = np.zeros([users,items2])\n",
    "\n",
    "    for i in range(0,no_sample):\n",
    "        result1 = np.add(result1,np.matmul(theta_sample[i],np.transpose(beta1_sample[i])))\n",
    "        result2 = np.add(result2,np.matmul(theta_sample[i],np.transpose(beta2_sample[i])))\n",
    "\n",
    "    result1 /= no_sample\n",
    "    result2 /= no_sample\n",
    "    del q_theta\n",
    "    del q_beta1\n",
    "    del q_beta2\n",
    "    del beta1_sample\n",
    "    del beta2_sample\n",
    "    del theta_sample\n",
    "    gc.collect()\n",
    "    #mae(t,result1,result2)\n",
    "    comp_auc(result2)"
   ]
  },
  {
   "cell_type": "code",
   "execution_count": null,
   "metadata": {},
   "outputs": [],
   "source": [
    "K = 100\n",
    "users = X.shape[0]\n",
    "items1 = X.shape[1]\n",
    "items2 = Y.shape[1]\n",
    "a = a_c = c = c_c = 0.3\n",
    "b_c = d_c = 1.0"
   ]
  },
  {
   "cell_type": "code",
   "execution_count": null,
   "metadata": {},
   "outputs": [],
   "source": [
    "kappa_shp =  np.random.uniform(low=0.1,size=users)\n",
    "kappa_rte = np.random.uniform(low=0.1,size=users)\n",
    "\n",
    "tau_shp = np.random.uniform(low=0.1,size=items1)\n",
    "tau_rte = np.random.uniform(low=0.1,size=items1)\n",
    "\n",
    "rho_shp = np.random.uniform(low=0.1,size=items2)\n",
    "rho_rte = np.random.uniform(low=0.1,size=items2)\n",
    "\n",
    "phi = np.zeros([users,items1,K])\n",
    "ohm = np.zeros([users,items2,K])\n",
    "\n",
    "gam_shp = np.random.uniform(low=0.1,size=[users,K])\n",
    "gam_rte = np.random.uniform(low=0.1,size=[users,K])\n",
    "\n",
    "lam_shp = np.random.uniform(low=0.1,size=[items1,K])\n",
    "lam_rte = np.random.uniform(low=0.1,size=[items1,K])\n",
    "\n",
    "mu_shp = np.random.uniform(low=0.1,size=[items2,K])\n",
    "mu_rte = np.random.uniform(low=0.1,size=[items2,K])"
   ]
  },
  {
   "cell_type": "code",
   "execution_count": null,
   "metadata": {},
   "outputs": [],
   "source": [
    "for u in range(0,users):\n",
    "    kappa_shp[u] = a_c + K*a\n",
    "for i in range(0,items1):\n",
    "    tau_shp[i] = c_c + K*c\n",
    "for j in range(0,items2):\n",
    "    rho_shp[j] = c_c + K*c\n",
    "\n",
    "for ite in range(0,tot):\n",
    "    if ite%5==0:\n",
    "        print(ite)\n",
    "    \n",
    "    for u in range(0,users):\n",
    "        for i in range(0,items1):\n",
    "            if x[u,i] > 0:\n",
    "                phi[u,i,:]= sp.digamma(gam_shp[u,:])-np.log(gam_rte[u,:])+sp.digamma(lam_shp[i,:])-np.log(lam_rte[i,:])\n",
    "                norm = logsumep(phi[u,i,:])\n",
    "                phi[u,i,:] = np.exp(phi[u,i,:]-norm)\n",
    "        for j in range(0,items2):\n",
    "            if y[u,j] > 0:\n",
    "                ohm[u,j,:]= sp.digamma(gam_shp[u,:])-np.log(gam_rte[u,:])+sp.digamma(mu_shp[j,:])-np.log(mu_rte[j,:])\n",
    "                norm = logsumexp(ohm[u,j,:])\n",
    "                ohm[u,j,:] = np.exp(ohm[u,j,:]-norm)\n",
    "    \n",
    "    \n",
    "    for u in range(0,users):\n",
    "        for k in range(0,K):\n",
    "            gam_shp[u,k] = a + np.inner(x[u,:],phi[u,:,k]) + np.inner(y[u,:],ohm[u,:,k])\n",
    "            gam_rte[u,k] = (kappa_shp[u]/kappa_rte[u]) + np.sum(lam_shp[:,k]/lam_rte[:,k]) + np.sum(mu_shp[:,k]/mu_rte[:,k])\n",
    "        kappa_rte[u] = (a_c/b_c) + np.sum(gam_shp[u,:]/gam_rte[u,:])\n",
    "    \n",
    "    for i in range(0,items1):\n",
    "        for k in range(0,K):\n",
    "            lam_shp[i,k] = c + np.inner(x[:,i],phi[:,i,k])\n",
    "            lam_rte[i,k] = (tau_shp[i]/tau_rte[i]) + np.sum(gam_shp[:,k]/gam_rte[:,k])\n",
    "        tau_rte[i] = (c_c/d_c) + np.sum(lam_shp[i,:]/lam_rte[i,:])\n",
    "    \n",
    "    for j in range(0,items2):\n",
    "        for k in range(0,K):\n",
    "            mu_shp[j,k] = c + np.inner(y[:,j],ohm[:,j,k])\n",
    "            mu_rte[j,k] = (rho_shp[j]/rho_rte[j]) + np.sum(gam_shp[:,k]/gam_rte[:,k])\n",
    "        rho_rte[j] = (c_c/d_c) + np.sum(mu_shp[j,:]/mu_rte[j,:])\n",
    "    gc.collect()\n",
    "#     if ite%10 == 0:\n",
    "#         check(int(ite/10))"
   ]
  },
  {
   "cell_type": "code",
   "execution_count": null,
   "metadata": {
    "collapsed": true
   },
   "outputs": [],
   "source": [
    "to_save = [[gam_shp,gam_rte],[lam_shp,lam_rte],[mu_shp,mu_rte]]\n",
    "PIK = \"/media/jarvis/4C80CA6A80CA5A5A/projects/hcpf/models/bibtex_hpf_\"+str(k)+\".dat\"\n",
    "with open(PIK, \"wb\") as f:\n",
    "    pickle.dump(to_save, f)"
   ]
  },
  {
   "cell_type": "code",
   "execution_count": null,
   "metadata": {
    "collapsed": true
   },
   "outputs": [],
   "source": [
    "check(0)"
   ]
  },
  {
   "cell_type": "code",
   "execution_count": null,
   "metadata": {},
   "outputs": [],
   "source": [
    "# plt.plot(mae_val)\n",
    "# plt.show()\n",
    "# np.savetxt(\"mae_d_k05.txt\",mae_val)"
   ]
  }
 ],
 "metadata": {
  "anaconda-cloud": {},
  "kernelspec": {
   "display_name": "Python [conda env:bml]",
   "language": "python",
   "name": "conda-env-bml-py"
  },
  "language_info": {
   "codemirror_mode": {
    "name": "ipython",
    "version": 2
   },
   "file_extension": ".py",
   "mimetype": "text/x-python",
   "name": "python",
   "nbconvert_exporter": "python",
   "pygments_lexer": "ipython2",
   "version": "2.7.13"
  }
 },
 "nbformat": 4,
 "nbformat_minor": 1
}
