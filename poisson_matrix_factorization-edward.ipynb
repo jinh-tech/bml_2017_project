{
 "cells": [
  {
   "cell_type": "code",
   "execution_count": 1,
   "metadata": {
    "collapsed": true
   },
   "outputs": [],
   "source": [
    "from __future__ import absolute_import\n",
    "from __future__ import division\n",
    "from __future__ import print_function\n",
    "\n",
    "import edward as ed\n",
    "import numpy as np\n",
    "import tensorflow as tf\n",
    "\n",
    "from edward.models import Poisson,Gamma\n",
    "import matplotlib.pyplot as plt"
   ]
  },
  {
   "cell_type": "code",
   "execution_count": 2,
   "metadata": {
    "collapsed": false
   },
   "outputs": [],
   "source": [
    "def build_toy_dataset(users,items):\n",
    "    \n",
    "    threshold = 0.8\n",
    "    dataset = np.random.uniform(size=[users,items])\n",
    "    \n",
    "    for i in range(0,users):\n",
    "        for j in range(0,items):\n",
    "            if dataset[i,j] < threshold:\n",
    "                dataset[i,j] = 0\n",
    "            else:\n",
    "                dataset[i,j] = 1\n",
    "    \n",
    "    test_fraction = 0.5\n",
    "    train_mask = np.random.uniform(size=[users,items])\n",
    "    \n",
    "    for i in range(0,users):\n",
    "        for j in range(0,items):\n",
    "            if train_mask[i,j] < test_fraction:\n",
    "                train_mask[i,j] = 1\n",
    "            else:\n",
    "                train_mask[i,j] = 0\n",
    "    \n",
    "    return dataset,train_mask"
   ]
  },
  {
   "cell_type": "code",
   "execution_count": 3,
   "metadata": {
    "collapsed": false
   },
   "outputs": [],
   "source": [
    "def evaluate(dataset,train_mask,result,ndcg):\n",
    "    \n",
    "    ndcg.append(0)\n",
    "    for i in range(0,users):\n",
    "        sort_index = np.argsort(result[i])[::-1]\n",
    "        score = 0\n",
    "        norm = 0\n",
    "        count = 1\n",
    "        \n",
    "        for j in range(0,items):\n",
    "                if train_mask[i,sort_index[j]] == 0 and dataset[i,sort_index[j]] == 1:\n",
    "                    count += 1\n",
    "                    norm += 1.0/np.log2(count)\n",
    "                    score += 1.0/np.log2(j+2)\n",
    "        ndcg[-1] += score/norm\n",
    "    ndcg[-1] /= users"
   ]
  },
  {
   "cell_type": "code",
   "execution_count": 12,
   "metadata": {
    "collapsed": true
   },
   "outputs": [],
   "source": [
    "training_iter = 1000\n",
    "test_after_iter = 100\n",
    "users = 100\n",
    "items = 100\n",
    "k = 5 #latent factors\n",
    "dataset,train_mask = build_toy_dataset(users,items)\n",
    "training_data = dataset*train_mask\n",
    "ndcg = []"
   ]
  },
  {
   "cell_type": "code",
   "execution_count": 13,
   "metadata": {
    "collapsed": false
   },
   "outputs": [],
   "source": [
    "a = 0.1\n",
    "b = 0.1\n",
    "theta = Gamma(concentration = a*tf.ones([users,k]), rate = a*tf.ones([users,k]))\n",
    "beta = Gamma(concentration = b*tf.ones([items,k]), rate = b*tf.ones([items,k]))\n",
    "x = Poisson(rate = tf.matmul(theta,beta,transpose_b=True))"
   ]
  },
  {
   "cell_type": "code",
   "execution_count": 14,
   "metadata": {
    "collapsed": false
   },
   "outputs": [],
   "source": [
    "qtheta = Gamma(concentration = tf.Variable(tf.random_uniform([users,k],minval = 0.01, maxval = 1.0)), rate = tf.Variable(tf.random_uniform([users,k],minval = 0.01, maxval = 1.0)))\n",
    "qbeta = Gamma(concentration = tf.Variable(tf.random_uniform([items,k],minval = 0.01, maxval = 1.0)), rate = tf.Variable(tf.random_uniform([items,k],minval = 0.01, maxval = 1.0)))"
   ]
  },
  {
   "cell_type": "code",
   "execution_count": 24,
   "metadata": {
    "collapsed": false
   },
   "outputs": [],
   "source": [
    "inference = ed.ReparameterizationKLqp({theta:qtheta,beta:qbeta},data={x:training_data})\n",
    "inference.initialize(n_iter=training_iter)"
   ]
  },
  {
   "cell_type": "code",
   "execution_count": 25,
   "metadata": {
    "collapsed": false
   },
   "outputs": [
    {
     "name": "stdout",
     "output_type": "stream",
     "text": [
      "Currently at 100 iteration\n",
      "Currently at 200 iteration\n",
      "Currently at 300 iteration\n",
      "Currently at 400 iteration\n",
      "Currently at 500 iteration\n",
      "Currently at 600 iteration\n",
      "Currently at 700 iteration\n",
      "Currently at 800 iteration\n",
      "Currently at 900 iteration\n"
     ]
    }
   ],
   "source": [
    "sess = ed.get_session()\n",
    "tf.global_variables_initializer().run()\n",
    "for i in range(1,inference.n_iter):\n",
    "    inference.update()\n",
    "    if i%test_after_iter == 0:\n",
    "        print(\"Currently at %d iteration\"%(i))\n",
    "        theta_samples = sess.run(qtheta.sample(10))\n",
    "        beta_samples = sess.run(qbeta.sample(10))\n",
    "        result = np.zeros([users,items])\n",
    "        for j in range(0,10):\n",
    "            result += np.matmul(theta_samples[j],np.transpose(beta_samples[j]))\n",
    "        result /= 10.0\n",
    "        #print(beta_samples)\n",
    "        evaluate(dataset,train_mask,result,ndcg)"
   ]
  },
  {
   "cell_type": "code",
   "execution_count": 26,
   "metadata": {
    "collapsed": false
   },
   "outputs": [
    {
     "data": {
      "image/png": "[encoded data removed]",
      "text/plain": [
       "<matplotlib.figure.Figure at 0x7f11ff4e2fd0>"
      ]
     },
     "metadata": {},
     "output_type": "display_data"
    }
   ],
   "source": [
    "plt.plot(ndcg)\n",
    "plt.xlabel(\"Iterations\")\n",
    "plt.ylabel(\"NDCG\")\n",
    "plt.show()\n"
   ]
  },
  {
   "cell_type": "code",
   "execution_count": null,
   "metadata": {
    "collapsed": false
   },
   "outputs": [],
   "source": [
    "print(ndcg)"
   ]
  }
 ],
 "metadata": {
  "anaconda-cloud": {},
  "kernelspec": {
   "display_name": "Python [conda env:bml]",
   "language": "python",
   "name": "conda-env-bml-py"
  },
  "language_info": {
   "codemirror_mode": {
    "name": "ipython",
    "version": 2
   },
   "file_extension": ".py",
   "mimetype": "text/x-python",
   "name": "python",
   "nbconvert_exporter": "python",
   "pygments_lexer": "ipython2",
   "version": "2.7.13"
  }
 },
 "nbformat": 4,
 "nbformat_minor": 2
}
