{
 "cells": [
  {
   "cell_type": "code",
   "execution_count": 31,
   "metadata": {
    "collapsed": false
   },
   "outputs": [],
   "source": [
    "from __future__ import absolute_import\n",
    "from __future__ import division\n",
    "from __future__ import print_function\n",
    "\n",
    "import edward as ed\n",
    "import matplotlib.pyplot as plt\n",
    "import numpy as np\n",
    "import tensorflow as tf\n",
    "import math\n",
    "\n",
    "from os import listdir\n",
    "from os.path import isfile, join\n",
    "import os.path\n",
    "import random\n",
    "\n",
    "from edward.models import Poisson,Gamma\n",
    "\n",
    "plt.style.use('ggplot')"
   ]
  },
  {
   "cell_type": "code",
   "execution_count": 43,
   "metadata": {
    "collapsed": true
   },
   "outputs": [],
   "source": [
    "def movielens(binary,threshold):\n",
    "    file_path = 'data/movielens/X.txt'\n",
    "    train_mask_file = 'data/movielens/train_mask.txt'\n",
    "    test_mask_file = 'data/movielens/test_mask.txt'\n",
    "    X = np.loadtxt(file_path)\n",
    "    x_train = np.array(X)\n",
    "    train_mask = np.loadtxt(train_mask_file)\n",
    "    test_mask = np.loadtxt(test_mask_file)\n",
    "    \n",
    "    for i in range(0,X.shape[0]):\n",
    "        for j in range(0,X.shape[1]):\n",
    "            if train_mask[i][j] == 0:\n",
    "                x_train[i][j] = 0\n",
    "\n",
    "    \n",
    "    if binary == False:\n",
    "        return x_train,X,test_mask\n",
    "    \n",
    "    for i in range(0,X.shape[0]):\n",
    "        for j in range(0,X.shape[1]):\n",
    "            if x_train[i][j] <= threshold:\n",
    "                x_train[i][j] = 0\n",
    "            else:\n",
    "                x_train[i][j] = 1\n",
    "                \n",
    "    for i in range(0,X.shape[0]):\n",
    "        for j in range(0,X.shape[1]):\n",
    "            if X[i][j] <= threshold:\n",
    "                X[i][j] = 0\n",
    "            else:\n",
    "                X[i][j] = 1\n",
    "    \n",
    "    return x_train,X,test_mask"
   ]
  },
  {
   "cell_type": "code",
   "execution_count": 44,
   "metadata": {
    "collapsed": true
   },
   "outputs": [],
   "source": [
    "x_train,X_full,test_mask = movielens(True,0)"
   ]
  },
  {
   "cell_type": "code",
   "execution_count": 57,
   "metadata": {
    "collapsed": false
   },
   "outputs": [
    {
     "name": "stdout",
     "output_type": "stream",
     "text": [
      "\r",
      "   1/2000 [  0%]                                ETA: 4625s | Loss: 10788983145115531870208.000"
     ]
    },
    {
     "ename": "InvalidArgumentError",
     "evalue": "assertion failed: [KL calculation between Gamma_175/ and Gamma_171/ returned NaN values (and was called with allow_nan=False).  Values:] [[1.0707035 3.47688 1.0589769]...]\n\t [[Node: KullbackLeibler_35/Assert/AssertGuard/Assert = Assert[T=[DT_STRING, DT_FLOAT], summarize=3, _device=\"/job:localhost/replica:0/task:0/cpu:0\"](KullbackLeibler_35/Assert/AssertGuard/Assert/Switch, KullbackLeibler_35/Assert/AssertGuard/Assert/data_0, KullbackLeibler_35/Assert/AssertGuard/Assert/Switch_1)]]\n\nCaused by op u'KullbackLeibler_35/Assert/AssertGuard/Assert', defined at:\n  File \"/home/jarvis/anaconda2/envs/bml/lib/python2.7/runpy.py\", line 174, in _run_module_as_main\n    \"__main__\", fname, loader, pkg_name)\n  File \"/home/jarvis/anaconda2/envs/bml/lib/python2.7/runpy.py\", line 72, in _run_code\n    exec code in run_globals\n  File \"/home/jarvis/anaconda2/envs/bml/lib/python2.7/site-packages/ipykernel/__main__.py\", line 3, in <module>\n    app.launch_new_instance()\n  File \"/home/jarvis/anaconda2/envs/bml/lib/python2.7/site-packages/traitlets/config/application.py\", line 658, in launch_instance\n    app.start()\n  File \"/home/jarvis/anaconda2/envs/bml/lib/python2.7/site-packages/ipykernel/kernelapp.py\", line 474, in start\n    ioloop.IOLoop.instance().start()\n  File \"/home/jarvis/anaconda2/envs/bml/lib/python2.7/site-packages/zmq/eventloop/ioloop.py\", line 177, in start\n    super(ZMQIOLoop, self).start()\n  File \"/home/jarvis/anaconda2/envs/bml/lib/python2.7/site-packages/tornado/ioloop.py\", line 887, in start\n    handler_func(fd_obj, events)\n  File \"/home/jarvis/anaconda2/envs/bml/lib/python2.7/site-packages/tornado/stack_context.py\", line 275, in null_wrapper\n    return fn(*args, **kwargs)\n  File \"/home/jarvis/anaconda2/envs/bml/lib/python2.7/site-packages/zmq/eventloop/zmqstream.py\", line 440, in _handle_events\n    self._handle_recv()\n  File \"/home/jarvis/anaconda2/envs/bml/lib/python2.7/site-packages/zmq/eventloop/zmqstream.py\", line 472, in _handle_recv\n    self._run_callback(callback, msg)\n  File \"/home/jarvis/anaconda2/envs/bml/lib/python2.7/site-packages/zmq/eventloop/zmqstream.py\", line 414, in _run_callback\n    callback(*args, **kwargs)\n  File \"/home/jarvis/anaconda2/envs/bml/lib/python2.7/site-packages/tornado/stack_context.py\", line 275, in null_wrapper\n    return fn(*args, **kwargs)\n  File \"/home/jarvis/anaconda2/envs/bml/lib/python2.7/site-packages/ipykernel/kernelbase.py\", line 276, in dispatcher\n    return self.dispatch_shell(stream, msg)\n  File \"/home/jarvis/anaconda2/envs/bml/lib/python2.7/site-packages/ipykernel/kernelbase.py\", line 228, in dispatch_shell\n    handler(stream, idents, msg)\n  File \"/home/jarvis/anaconda2/envs/bml/lib/python2.7/site-packages/ipykernel/kernelbase.py\", line 390, in execute_request\n    user_expressions, allow_stdin)\n  File \"/home/jarvis/anaconda2/envs/bml/lib/python2.7/site-packages/ipykernel/ipkernel.py\", line 196, in do_execute\n    res = shell.run_cell(code, store_history=store_history, silent=silent)\n  File \"/home/jarvis/anaconda2/envs/bml/lib/python2.7/site-packages/ipykernel/zmqshell.py\", line 501, in run_cell\n    return super(ZMQInteractiveShell, self).run_cell(*args, **kwargs)\n  File \"/home/jarvis/anaconda2/envs/bml/lib/python2.7/site-packages/IPython/core/interactiveshell.py\", line 2717, in run_cell\n    interactivity=interactivity, compiler=compiler, result=result)\n  File \"/home/jarvis/anaconda2/envs/bml/lib/python2.7/site-packages/IPython/core/interactiveshell.py\", line 2821, in run_ast_nodes\n    if self.run_code(code, result):\n  File \"/home/jarvis/anaconda2/envs/bml/lib/python2.7/site-packages/IPython/core/interactiveshell.py\", line 2881, in run_code\n    exec(code_obj, self.user_global_ns, self.user_ns)\n  File \"<ipython-input-57-0bb6a7a31bc4>\", line 21, in <module>\n    inference.initialize(n_samples=1,n_iter=2000,n_print=10)\n  File \"/home/jarvis/src/edward/edward/inferences/klqp.py\", line 204, in initialize\n    return super(ReparameterizationKLKLqp, self).initialize(*args, **kwargs)\n  File \"/home/jarvis/src/edward/edward/inferences/variational_inference.py\", line 73, in initialize\n    self.loss, grads_and_vars = self.build_loss_and_gradients(var_list)\n  File \"/home/jarvis/src/edward/edward/inferences/klqp.py\", line 207, in build_loss_and_gradients\n    return build_reparam_kl_loss_and_gradients(self, var_list)\n  File \"/home/jarvis/src/edward/edward/inferences/klqp.py\", line 443, in build_reparam_kl_loss_and_gradients\n    for z, qz in six.iteritems(inference.latent_vars)])\n  File \"/home/jarvis/anaconda2/envs/bml/lib/python2.7/site-packages/tensorflow/contrib/distributions/python/ops/kullback_leibler.py\", line 99, in kl\n    % (dist_a.name, dist_b.name), kl_t])]):\n  File \"/home/jarvis/anaconda2/envs/bml/lib/python2.7/site-packages/tensorflow/python/ops/control_flow_ops.py\", line 147, in Assert\n    condition, no_op, true_assert, name=\"AssertGuard\")\n  File \"/home/jarvis/anaconda2/envs/bml/lib/python2.7/site-packages/tensorflow/python/ops/control_flow_ops.py\", line 1766, in cond\n    _, res_f = context_f.BuildCondBranch(fn2)\n  File \"/home/jarvis/anaconda2/envs/bml/lib/python2.7/site-packages/tensorflow/python/ops/control_flow_ops.py\", line 1660, in BuildCondBranch\n    r = fn()\n  File \"/home/jarvis/anaconda2/envs/bml/lib/python2.7/site-packages/tensorflow/python/ops/control_flow_ops.py\", line 145, in true_assert\n    condition, data, summarize, name=\"Assert\")\n  File \"/home/jarvis/anaconda2/envs/bml/lib/python2.7/site-packages/tensorflow/python/ops/gen_logging_ops.py\", line 39, in _assert\n    summarize=summarize, name=name)\n  File \"/home/jarvis/anaconda2/envs/bml/lib/python2.7/site-packages/tensorflow/python/framework/op_def_library.py\", line 763, in apply_op\n    op_def=op_def)\n  File \"/home/jarvis/anaconda2/envs/bml/lib/python2.7/site-packages/tensorflow/python/framework/ops.py\", line 2395, in create_op\n    original_op=self._default_original_op, op_def=op_def)\n  File \"/home/jarvis/anaconda2/envs/bml/lib/python2.7/site-packages/tensorflow/python/framework/ops.py\", line 1264, in __init__\n    self._traceback = _extract_stack()\n\nInvalidArgumentError (see above for traceback): assertion failed: [KL calculation between Gamma_175/ and Gamma_171/ returned NaN values (and was called with allow_nan=False).  Values:] [[1.0707035 3.47688 1.0589769]...]\n\t [[Node: KullbackLeibler_35/Assert/AssertGuard/Assert = Assert[T=[DT_STRING, DT_FLOAT], summarize=3, _device=\"/job:localhost/replica:0/task:0/cpu:0\"](KullbackLeibler_35/Assert/AssertGuard/Assert/Switch, KullbackLeibler_35/Assert/AssertGuard/Assert/data_0, KullbackLeibler_35/Assert/AssertGuard/Assert/Switch_1)]]\n",
     "output_type": "error",
     "traceback": [
      "\u001b[0;31m---------------------------------------------------------------------------\u001b[0m",
      "\u001b[0;31mInvalidArgumentError\u001b[0m                      Traceback (most recent call last)",
      "\u001b[0;32m<ipython-input-57-0bb6a7a31bc4>\u001b[0m in \u001b[0;36m<module>\u001b[0;34m()\u001b[0m\n\u001b[1;32m     26\u001b[0m \u001b[0;31m#inference.run(n_iter = 300,n_print=1)\u001b[0m\u001b[0;34m\u001b[0m\u001b[0;34m\u001b[0m\u001b[0m\n\u001b[1;32m     27\u001b[0m \u001b[0;32mfor\u001b[0m \u001b[0mi\u001b[0m \u001b[0;32min\u001b[0m \u001b[0mrange\u001b[0m \u001b[0;34m(\u001b[0m\u001b[0;36m1\u001b[0m\u001b[0;34m,\u001b[0m\u001b[0minference\u001b[0m\u001b[0;34m.\u001b[0m\u001b[0mn_iter\u001b[0m\u001b[0;34m)\u001b[0m\u001b[0;34m:\u001b[0m\u001b[0;34m\u001b[0m\u001b[0m\n\u001b[0;32m---> 28\u001b[0;31m     \u001b[0md\u001b[0m \u001b[0;34m=\u001b[0m \u001b[0minference\u001b[0m\u001b[0;34m.\u001b[0m\u001b[0mupdate\u001b[0m\u001b[0;34m(\u001b[0m\u001b[0;34m)\u001b[0m\u001b[0;34m\u001b[0m\u001b[0m\n\u001b[0m\u001b[1;32m     29\u001b[0m     \u001b[0minference\u001b[0m\u001b[0;34m.\u001b[0m\u001b[0mprint_progress\u001b[0m\u001b[0;34m(\u001b[0m\u001b[0md\u001b[0m\u001b[0;34m)\u001b[0m\u001b[0;34m\u001b[0m\u001b[0m\n\u001b[1;32m     30\u001b[0m \u001b[0;34m\u001b[0m\u001b[0m\n",
      "\u001b[0;32m/home/jarvis/src/edward/edward/inferences/variational_inference.pyc\u001b[0m in \u001b[0;36mupdate\u001b[0;34m(self, feed_dict)\u001b[0m\n\u001b[1;32m    139\u001b[0m \u001b[0;34m\u001b[0m\u001b[0m\n\u001b[1;32m    140\u001b[0m     \u001b[0msess\u001b[0m \u001b[0;34m=\u001b[0m \u001b[0mget_session\u001b[0m\u001b[0;34m(\u001b[0m\u001b[0;34m)\u001b[0m\u001b[0;34m\u001b[0m\u001b[0m\n\u001b[0;32m--> 141\u001b[0;31m     \u001b[0m_\u001b[0m\u001b[0;34m,\u001b[0m \u001b[0mt\u001b[0m\u001b[0;34m,\u001b[0m \u001b[0mloss\u001b[0m \u001b[0;34m=\u001b[0m \u001b[0msess\u001b[0m\u001b[0;34m.\u001b[0m\u001b[0mrun\u001b[0m\u001b[0;34m(\u001b[0m\u001b[0;34m[\u001b[0m\u001b[0mself\u001b[0m\u001b[0;34m.\u001b[0m\u001b[0mtrain\u001b[0m\u001b[0;34m,\u001b[0m \u001b[0mself\u001b[0m\u001b[0;34m.\u001b[0m\u001b[0mincrement_t\u001b[0m\u001b[0;34m,\u001b[0m \u001b[0mself\u001b[0m\u001b[0;34m.\u001b[0m\u001b[0mloss\u001b[0m\u001b[0;34m]\u001b[0m\u001b[0;34m,\u001b[0m \u001b[0mfeed_dict\u001b[0m\u001b[0;34m)\u001b[0m\u001b[0;34m\u001b[0m\u001b[0m\n\u001b[0m\u001b[1;32m    142\u001b[0m \u001b[0;34m\u001b[0m\u001b[0m\n\u001b[1;32m    143\u001b[0m     \u001b[0;32mif\u001b[0m \u001b[0mself\u001b[0m\u001b[0;34m.\u001b[0m\u001b[0mdebug\u001b[0m\u001b[0;34m:\u001b[0m\u001b[0;34m\u001b[0m\u001b[0m\n",
      "\u001b[0;32m/home/jarvis/anaconda2/envs/bml/lib/python2.7/site-packages/tensorflow/python/client/session.pyc\u001b[0m in \u001b[0;36mrun\u001b[0;34m(self, fetches, feed_dict, options, run_metadata)\u001b[0m\n\u001b[1;32m    765\u001b[0m     \u001b[0;32mtry\u001b[0m\u001b[0;34m:\u001b[0m\u001b[0;34m\u001b[0m\u001b[0m\n\u001b[1;32m    766\u001b[0m       result = self._run(None, fetches, feed_dict, options_ptr,\n\u001b[0;32m--> 767\u001b[0;31m                          run_metadata_ptr)\n\u001b[0m\u001b[1;32m    768\u001b[0m       \u001b[0;32mif\u001b[0m \u001b[0mrun_metadata\u001b[0m\u001b[0;34m:\u001b[0m\u001b[0;34m\u001b[0m\u001b[0m\n\u001b[1;32m    769\u001b[0m         \u001b[0mproto_data\u001b[0m \u001b[0;34m=\u001b[0m \u001b[0mtf_session\u001b[0m\u001b[0;34m.\u001b[0m\u001b[0mTF_GetBuffer\u001b[0m\u001b[0;34m(\u001b[0m\u001b[0mrun_metadata_ptr\u001b[0m\u001b[0;34m)\u001b[0m\u001b[0;34m\u001b[0m\u001b[0m\n",
      "\u001b[0;32m/home/jarvis/anaconda2/envs/bml/lib/python2.7/site-packages/tensorflow/python/client/session.pyc\u001b[0m in \u001b[0;36m_run\u001b[0;34m(self, handle, fetches, feed_dict, options, run_metadata)\u001b[0m\n\u001b[1;32m    963\u001b[0m     \u001b[0;32mif\u001b[0m \u001b[0mfinal_fetches\u001b[0m \u001b[0;32mor\u001b[0m \u001b[0mfinal_targets\u001b[0m\u001b[0;34m:\u001b[0m\u001b[0;34m\u001b[0m\u001b[0m\n\u001b[1;32m    964\u001b[0m       results = self._do_run(handle, final_targets, final_fetches,\n\u001b[0;32m--> 965\u001b[0;31m                              feed_dict_string, options, run_metadata)\n\u001b[0m\u001b[1;32m    966\u001b[0m     \u001b[0;32melse\u001b[0m\u001b[0;34m:\u001b[0m\u001b[0;34m\u001b[0m\u001b[0m\n\u001b[1;32m    967\u001b[0m       \u001b[0mresults\u001b[0m \u001b[0;34m=\u001b[0m \u001b[0;34m[\u001b[0m\u001b[0;34m]\u001b[0m\u001b[0;34m\u001b[0m\u001b[0m\n",
      "\u001b[0;32m/home/jarvis/anaconda2/envs/bml/lib/python2.7/site-packages/tensorflow/python/client/session.pyc\u001b[0m in \u001b[0;36m_do_run\u001b[0;34m(self, handle, target_list, fetch_list, feed_dict, options, run_metadata)\u001b[0m\n\u001b[1;32m   1013\u001b[0m     \u001b[0;32mif\u001b[0m \u001b[0mhandle\u001b[0m \u001b[0;32mis\u001b[0m \u001b[0mNone\u001b[0m\u001b[0;34m:\u001b[0m\u001b[0;34m\u001b[0m\u001b[0m\n\u001b[1;32m   1014\u001b[0m       return self._do_call(_run_fn, self._session, feed_dict, fetch_list,\n\u001b[0;32m-> 1015\u001b[0;31m                            target_list, options, run_metadata)\n\u001b[0m\u001b[1;32m   1016\u001b[0m     \u001b[0;32melse\u001b[0m\u001b[0;34m:\u001b[0m\u001b[0;34m\u001b[0m\u001b[0m\n\u001b[1;32m   1017\u001b[0m       return self._do_call(_prun_fn, self._session, handle, feed_dict,\n",
      "\u001b[0;32m/home/jarvis/anaconda2/envs/bml/lib/python2.7/site-packages/tensorflow/python/client/session.pyc\u001b[0m in \u001b[0;36m_do_call\u001b[0;34m(self, fn, *args)\u001b[0m\n\u001b[1;32m   1033\u001b[0m         \u001b[0;32mexcept\u001b[0m \u001b[0mKeyError\u001b[0m\u001b[0;34m:\u001b[0m\u001b[0;34m\u001b[0m\u001b[0m\n\u001b[1;32m   1034\u001b[0m           \u001b[0;32mpass\u001b[0m\u001b[0;34m\u001b[0m\u001b[0m\n\u001b[0;32m-> 1035\u001b[0;31m       \u001b[0;32mraise\u001b[0m \u001b[0mtype\u001b[0m\u001b[0;34m(\u001b[0m\u001b[0me\u001b[0m\u001b[0;34m)\u001b[0m\u001b[0;34m(\u001b[0m\u001b[0mnode_def\u001b[0m\u001b[0;34m,\u001b[0m \u001b[0mop\u001b[0m\u001b[0;34m,\u001b[0m \u001b[0mmessage\u001b[0m\u001b[0;34m)\u001b[0m\u001b[0;34m\u001b[0m\u001b[0m\n\u001b[0m\u001b[1;32m   1036\u001b[0m \u001b[0;34m\u001b[0m\u001b[0m\n\u001b[1;32m   1037\u001b[0m   \u001b[0;32mdef\u001b[0m \u001b[0m_extend_graph\u001b[0m\u001b[0;34m(\u001b[0m\u001b[0mself\u001b[0m\u001b[0;34m)\u001b[0m\u001b[0;34m:\u001b[0m\u001b[0;34m\u001b[0m\u001b[0m\n",
      "\u001b[0;31mInvalidArgumentError\u001b[0m: assertion failed: [KL calculation between Gamma_175/ and Gamma_171/ returned NaN values (and was called with allow_nan=False).  Values:] [[1.0707035 3.47688 1.0589769]...]\n\t [[Node: KullbackLeibler_35/Assert/AssertGuard/Assert = Assert[T=[DT_STRING, DT_FLOAT], summarize=3, _device=\"/job:localhost/replica:0/task:0/cpu:0\"](KullbackLeibler_35/Assert/AssertGuard/Assert/Switch, KullbackLeibler_35/Assert/AssertGuard/Assert/data_0, KullbackLeibler_35/Assert/AssertGuard/Assert/Switch_1)]]\n\nCaused by op u'KullbackLeibler_35/Assert/AssertGuard/Assert', defined at:\n  File \"/home/jarvis/anaconda2/envs/bml/lib/python2.7/runpy.py\", line 174, in _run_module_as_main\n    \"__main__\", fname, loader, pkg_name)\n  File \"/home/jarvis/anaconda2/envs/bml/lib/python2.7/runpy.py\", line 72, in _run_code\n    exec code in run_globals\n  File \"/home/jarvis/anaconda2/envs/bml/lib/python2.7/site-packages/ipykernel/__main__.py\", line 3, in <module>\n    app.launch_new_instance()\n  File \"/home/jarvis/anaconda2/envs/bml/lib/python2.7/site-packages/traitlets/config/application.py\", line 658, in launch_instance\n    app.start()\n  File \"/home/jarvis/anaconda2/envs/bml/lib/python2.7/site-packages/ipykernel/kernelapp.py\", line 474, in start\n    ioloop.IOLoop.instance().start()\n  File \"/home/jarvis/anaconda2/envs/bml/lib/python2.7/site-packages/zmq/eventloop/ioloop.py\", line 177, in start\n    super(ZMQIOLoop, self).start()\n  File \"/home/jarvis/anaconda2/envs/bml/lib/python2.7/site-packages/tornado/ioloop.py\", line 887, in start\n    handler_func(fd_obj, events)\n  File \"/home/jarvis/anaconda2/envs/bml/lib/python2.7/site-packages/tornado/stack_context.py\", line 275, in null_wrapper\n    return fn(*args, **kwargs)\n  File \"/home/jarvis/anaconda2/envs/bml/lib/python2.7/site-packages/zmq/eventloop/zmqstream.py\", line 440, in _handle_events\n    self._handle_recv()\n  File \"/home/jarvis/anaconda2/envs/bml/lib/python2.7/site-packages/zmq/eventloop/zmqstream.py\", line 472, in _handle_recv\n    self._run_callback(callback, msg)\n  File \"/home/jarvis/anaconda2/envs/bml/lib/python2.7/site-packages/zmq/eventloop/zmqstream.py\", line 414, in _run_callback\n    callback(*args, **kwargs)\n  File \"/home/jarvis/anaconda2/envs/bml/lib/python2.7/site-packages/tornado/stack_context.py\", line 275, in null_wrapper\n    return fn(*args, **kwargs)\n  File \"/home/jarvis/anaconda2/envs/bml/lib/python2.7/site-packages/ipykernel/kernelbase.py\", line 276, in dispatcher\n    return self.dispatch_shell(stream, msg)\n  File \"/home/jarvis/anaconda2/envs/bml/lib/python2.7/site-packages/ipykernel/kernelbase.py\", line 228, in dispatch_shell\n    handler(stream, idents, msg)\n  File \"/home/jarvis/anaconda2/envs/bml/lib/python2.7/site-packages/ipykernel/kernelbase.py\", line 390, in execute_request\n    user_expressions, allow_stdin)\n  File \"/home/jarvis/anaconda2/envs/bml/lib/python2.7/site-packages/ipykernel/ipkernel.py\", line 196, in do_execute\n    res = shell.run_cell(code, store_history=store_history, silent=silent)\n  File \"/home/jarvis/anaconda2/envs/bml/lib/python2.7/site-packages/ipykernel/zmqshell.py\", line 501, in run_cell\n    return super(ZMQInteractiveShell, self).run_cell(*args, **kwargs)\n  File \"/home/jarvis/anaconda2/envs/bml/lib/python2.7/site-packages/IPython/core/interactiveshell.py\", line 2717, in run_cell\n    interactivity=interactivity, compiler=compiler, result=result)\n  File \"/home/jarvis/anaconda2/envs/bml/lib/python2.7/site-packages/IPython/core/interactiveshell.py\", line 2821, in run_ast_nodes\n    if self.run_code(code, result):\n  File \"/home/jarvis/anaconda2/envs/bml/lib/python2.7/site-packages/IPython/core/interactiveshell.py\", line 2881, in run_code\n    exec(code_obj, self.user_global_ns, self.user_ns)\n  File \"<ipython-input-57-0bb6a7a31bc4>\", line 21, in <module>\n    inference.initialize(n_samples=1,n_iter=2000,n_print=10)\n  File \"/home/jarvis/src/edward/edward/inferences/klqp.py\", line 204, in initialize\n    return super(ReparameterizationKLKLqp, self).initialize(*args, **kwargs)\n  File \"/home/jarvis/src/edward/edward/inferences/variational_inference.py\", line 73, in initialize\n    self.loss, grads_and_vars = self.build_loss_and_gradients(var_list)\n  File \"/home/jarvis/src/edward/edward/inferences/klqp.py\", line 207, in build_loss_and_gradients\n    return build_reparam_kl_loss_and_gradients(self, var_list)\n  File \"/home/jarvis/src/edward/edward/inferences/klqp.py\", line 443, in build_reparam_kl_loss_and_gradients\n    for z, qz in six.iteritems(inference.latent_vars)])\n  File \"/home/jarvis/anaconda2/envs/bml/lib/python2.7/site-packages/tensorflow/contrib/distributions/python/ops/kullback_leibler.py\", line 99, in kl\n    % (dist_a.name, dist_b.name), kl_t])]):\n  File \"/home/jarvis/anaconda2/envs/bml/lib/python2.7/site-packages/tensorflow/python/ops/control_flow_ops.py\", line 147, in Assert\n    condition, no_op, true_assert, name=\"AssertGuard\")\n  File \"/home/jarvis/anaconda2/envs/bml/lib/python2.7/site-packages/tensorflow/python/ops/control_flow_ops.py\", line 1766, in cond\n    _, res_f = context_f.BuildCondBranch(fn2)\n  File \"/home/jarvis/anaconda2/envs/bml/lib/python2.7/site-packages/tensorflow/python/ops/control_flow_ops.py\", line 1660, in BuildCondBranch\n    r = fn()\n  File \"/home/jarvis/anaconda2/envs/bml/lib/python2.7/site-packages/tensorflow/python/ops/control_flow_ops.py\", line 145, in true_assert\n    condition, data, summarize, name=\"Assert\")\n  File \"/home/jarvis/anaconda2/envs/bml/lib/python2.7/site-packages/tensorflow/python/ops/gen_logging_ops.py\", line 39, in _assert\n    summarize=summarize, name=name)\n  File \"/home/jarvis/anaconda2/envs/bml/lib/python2.7/site-packages/tensorflow/python/framework/op_def_library.py\", line 763, in apply_op\n    op_def=op_def)\n  File \"/home/jarvis/anaconda2/envs/bml/lib/python2.7/site-packages/tensorflow/python/framework/ops.py\", line 2395, in create_op\n    original_op=self._default_original_op, op_def=op_def)\n  File \"/home/jarvis/anaconda2/envs/bml/lib/python2.7/site-packages/tensorflow/python/framework/ops.py\", line 1264, in __init__\n    self._traceback = _extract_stack()\n\nInvalidArgumentError (see above for traceback): assertion failed: [KL calculation between Gamma_175/ and Gamma_171/ returned NaN values (and was called with allow_nan=False).  Values:] [[1.0707035 3.47688 1.0589769]...]\n\t [[Node: KullbackLeibler_35/Assert/AssertGuard/Assert = Assert[T=[DT_STRING, DT_FLOAT], summarize=3, _device=\"/job:localhost/replica:0/task:0/cpu:0\"](KullbackLeibler_35/Assert/AssertGuard/Assert/Switch, KullbackLeibler_35/Assert/AssertGuard/Assert/data_0, KullbackLeibler_35/Assert/AssertGuard/Assert/Switch_1)]]\n"
     ]
    }
   ],
   "source": [
    "k = 5\n",
    "users = X_full.shape[0]\n",
    "movies = X_full.shape[1]\n",
    "a = a_c = c = c_c = 0.3\n",
    "b_c = d_c = 1.0\n",
    "\n",
    "eu = Gamma(a_c*tf.ones([users,k]),(a_c/b_c)*tf.ones([users,k]))\n",
    "ni = Gamma(c_c*tf.ones([movies,k]),(c_c/d_c)*tf.ones([movies,k]))\n",
    "theta = Gamma(a*tf.ones([users,k]),eu)\n",
    "beta = Gamma(c*tf.ones([movies,k]),ni)\n",
    "lam1 = tf.matmul(theta,beta,transpose_b=True)\n",
    "x = Poisson(lam = lam1,value = tf.ones([users,movies]))\n",
    "\n",
    "q_eu = Gamma(tf.Variable(a_c*tf.ones([users,k])),tf.Variable((a_c/b_c)*tf.ones([users,k])))\n",
    "q_ni = Gamma(tf.Variable(c_c*tf.ones([movies,k])),tf.Variable((c_c/d_c)*tf.ones([movies,k])))\n",
    "q_theta = Gamma(tf.Variable(a*tf.ones([users,k])),tf.Variable(eu))\n",
    "q_beta = Gamma(tf.Variable(c*tf.ones([movies,k])),tf.Variable(ni))\n",
    "\n",
    "\n",
    "inference = ed.ReparameterizationKLKLqp({eu:q_eu,ni:q_ni,theta: q_theta,beta: q_beta},data={x:x_train})\n",
    "inference.initialize(n_samples=1,n_iter=2000,n_print=10)\n",
    "\n",
    "\n",
    "init = tf.global_variables_initializer()\n",
    "init.run()\n",
    "#inference.run(n_iter = 300,n_print=1)\n",
    "for i in range (1,inference.n_iter):\n",
    "    d = inference.update()\n",
    "    inference.print_progress(d)\n",
    "        "
   ]
  },
  {
   "cell_type": "code",
   "execution_count": 49,
   "metadata": {
    "collapsed": false,
    "scrolled": true
   },
   "outputs": [
    {
     "name": "stdout",
     "output_type": "stream",
     "text": [
      "[[ 0.39719115  0.12334625  0.09334777 ...,  0.09395425  0.10303991\n",
      "   0.08000379]\n",
      " [ 0.41045482  0.11422419  0.10820039 ...,  0.07748823  0.06190026\n",
      "   0.06880474]\n",
      " [ 0.29760991  0.15065534  0.06825595 ...,  0.07105633  0.07549418\n",
      "   0.06301904]\n",
      " ..., \n",
      " [ 0.30966097  0.10473662  0.0496735  ...,  0.04471524  0.0639585\n",
      "   0.04519666]\n",
      " [ 0.34662018  0.09742458  0.05675552 ...,  0.04800112  0.08553571\n",
      "   0.05842302]\n",
      " [ 0.36842174  0.1813489   0.09098195 ...,  0.09608987  0.12889547\n",
      "   0.08785937]]\n"
     ]
    }
   ],
   "source": [
    "no_sample = 10\n",
    "beta_sample = q_beta.sample(no_sample).eval()\n",
    "theta_sample = q_theta.sample(no_sample).eval()\n",
    "result = np.zeros([users,movies])\n",
    "for i in range(0,no_sample):\n",
    "    result = np.add(result,np.matmul(theta_sample[i],np.transpose(beta_sample[i])))\n",
    "result /= no_sample\n",
    "print(result)"
   ]
  },
  {
   "cell_type": "code",
   "execution_count": 53,
   "metadata": {
    "collapsed": false
   },
   "outputs": [
    {
     "name": "stdout",
     "output_type": "stream",
     "text": [
      "0.83931525974\n"
     ]
    }
   ],
   "source": [
    "error = 0.0\n",
    "count = 0.0\n",
    "for i in range(0,users):\n",
    "    for j in range(0,movies):\n",
    "        if test_mask[i][j] == 1:\n",
    "            error += pow(X_full[i][j]-result[i][j],2)\n",
    "            count += 1\n",
    "error /= count\n",
    "error = math.sqrt(error)\n",
    "print(error)"
   ]
  }
 ],
 "metadata": {
  "anaconda-cloud": {},
  "kernelspec": {
   "display_name": "Python [conda env:bml]",
   "language": "python",
   "name": "conda-env-bml-py"
  },
  "language_info": {
   "codemirror_mode": {
    "name": "ipython",
    "version": 2
   },
   "file_extension": ".py",
   "mimetype": "text/x-python",
   "name": "python",
   "nbconvert_exporter": "python",
   "pygments_lexer": "ipython2",
   "version": "2.7.13"
  }
 },
 "nbformat": 4,
 "nbformat_minor": 1
}
