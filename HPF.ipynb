{
 "cells": [
  {
   "cell_type": "code",
   "execution_count": 1,
   "metadata": {
    "collapsed": false
   },
   "outputs": [],
   "source": [
    "from __future__ import absolute_import\n",
    "from __future__ import division\n",
    "from __future__ import print_function\n",
    "\n",
    "import edward as ed\n",
    "import matplotlib.pyplot as plt\n",
    "import numpy as np\n",
    "import tensorflow as tf\n",
    "import math\n",
    "\n",
    "from os import listdir\n",
    "from os.path import isfile, join\n",
    "import os.path\n",
    "import random\n",
    "import scipy.special as sp\n",
    "\n",
    "from edward.models import Poisson,Gamma\n",
    "\n",
    "plt.style.use('ggplot')"
   ]
  },
  {
   "cell_type": "code",
   "execution_count": 2,
   "metadata": {
    "collapsed": true
   },
   "outputs": [],
   "source": [
    "X = np.loadtxt('./pre_processed_data/bibtex/Y_train.txt',delimiter=',')\n",
    "train_mask = np.loadtxt('./pre_processed_data/bibtex/y_train_mask.txt')\n",
    "y = X*train_mask\n",
    "tot = 101\n",
    "mae_val = np.zeros(11)"
   ]
  },
  {
   "cell_type": "code",
   "execution_count": 3,
   "metadata": {
    "collapsed": true
   },
   "outputs": [],
   "source": [
    "def mae(t,result):\n",
    "    error = 0.0\n",
    "    count = 0.0\n",
    "    for i in range(0,users):\n",
    "        for j in range(0,items):\n",
    "            if train_mask[i,j] == 0:\n",
    "                error += abs(X[i,j]-result[i,j])\n",
    "                count += 1\n",
    "    error /= count\n",
    "    #error = math.sqrt(error)\n",
    "    mae_val[t] = error"
   ]
  },
  {
   "cell_type": "code",
   "execution_count": 4,
   "metadata": {
    "collapsed": true
   },
   "outputs": [],
   "source": [
    "def check(t):\n",
    "    q_theta = Gamma(gam_shp,gam_rte)\n",
    "    q_beta = Gamma(lam_shp,lam_rte)\n",
    "    sess = tf.InteractiveSession()\n",
    "    init = tf.global_variables_initializer()\n",
    "    init.run()\n",
    "    no_sample = 100\n",
    "    beta_sample = q_beta.sample(no_sample).eval()\n",
    "    theta_sample = q_theta.sample(no_sample).eval()\n",
    "    result = np.zeros([users,items])\n",
    "    for i in range(0,no_sample):\n",
    "        result = np.add(result,np.matmul(theta_sample[i],np.transpose(beta_sample[i])))\n",
    "    result /= no_sample\n",
    "    mae(t,result)"
   ]
  },
  {
   "cell_type": "code",
   "execution_count": 5,
   "metadata": {
    "collapsed": false
   },
   "outputs": [],
   "source": [
    "K = 20\n",
    "users = X.shape[0]\n",
    "items = X.shape[1]\n",
    "a = a_c = c = c_c = 0.3\n",
    "b_c = d_c = 1.0      "
   ]
  },
  {
   "cell_type": "code",
   "execution_count": 6,
   "metadata": {
    "collapsed": false
   },
   "outputs": [],
   "source": [
    "kappa_shp =  np.random.uniform(low=0.1,size=users)\n",
    "kappa_rte = np.random.uniform(low=0.1,size=users)\n",
    "tau_shp = np.random.uniform(low=0.1,size=items)\n",
    "tau_rte = np.random.uniform(low=0.1,size=items)\n",
    "phi = np.zeros([users,items,K])\n",
    "gam_shp = np.random.uniform(low=0.1,size=[users,K])\n",
    "gam_rte = np.random.uniform(low=0.1,size=[users,K])\n",
    "lam_shp = np.random.uniform(low=0.1,size=[items,K])\n",
    "lam_rte = np.random.uniform(low=0.1,size=[items,K])"
   ]
  },
  {
   "cell_type": "code",
   "execution_count": 7,
   "metadata": {
    "collapsed": false
   },
   "outputs": [
    {
     "name": "stdout",
     "output_type": "stream",
     "text": [
      "0\n",
      "5\n",
      "10\n",
      "15\n",
      "20\n",
      "25\n",
      "30\n",
      "35\n",
      "40\n",
      "45\n",
      "50\n",
      "55\n",
      "60\n",
      "65\n",
      "70\n",
      "75\n",
      "80\n",
      "85\n",
      "90\n",
      "95\n",
      "100\n"
     ]
    }
   ],
   "source": [
    "for u in range(0,users):\n",
    "    kappa_shp[u] = a_c + K*a\n",
    "for i in range(0,items):\n",
    "    tau_shp[i] = c_c + K*c\n",
    "for ite in range(0,tot):\n",
    "    if ite%5==0:\n",
    "        print(ite)\n",
    "    \n",
    "    for u in range(0,users):\n",
    "        for i in range(0,items):\n",
    "            if y[u,i] > 0:\n",
    "                phi[u,i,:]= np.exp(sp.digamma(gam_shp[u,:])-np.log(gam_rte[u,:])+sp.digamma(lam_shp[i,:])-np.log(lam_rte[i,:]))\n",
    "                norm = np.sum(phi[u,i,:])\n",
    "                phi[u,i,:] = phi[u,i,:]/norm\n",
    "    \n",
    "    for u in range(0,users):\n",
    "        for k in range(0,K):\n",
    "            gam_shp[u,k] = a + np.inner(y[u,:],phi[u,:,k])\n",
    "            gam_rte[u,k] = (kappa_shp[u]/kappa_rte[u]) + np.sum(lam_shp[:,k]/lam_rte[:,k])\n",
    "        kappa_rte[u] = (a_c/b_c) + np.sum(gam_shp[u,:]/gam_rte[u,:])\n",
    "    \n",
    "    for i in range(0,items):\n",
    "        for k in range(0,K):\n",
    "            lam_shp[i,k] = c + np.inner(y[:,i],phi[:,i,k])\n",
    "            lam_rte[i,k] = (tau_shp[i]/tau_rte[i]) + np.sum(gam_shp[:,k]/gam_rte[:,k])\n",
    "        tau_rte[i] = (c_c/d_c) + np.sum(lam_shp[i,:]/lam_rte[i,:])\n",
    "    \n",
    "    if ite%10 == 0:\n",
    "        check(int(ite/10))"
   ]
  },
  {
   "cell_type": "code",
   "execution_count": 8,
   "metadata": {
    "collapsed": false
   },
   "outputs": [
    {
     "data": {
      "image/png": "[encoded data removed]",
      "text/plain": [
       "<matplotlib.figure.Figure at 0x7f7af4c5f6d0>"
      ]
     },
     "metadata": {},
     "output_type": "display_data"
    }
   ],
   "source": [
    "plt.plot(mae_val)\n",
    "plt.show()\n",
    "np.savetxt(\"mae_s_y_k20.txt\",mae_val)"
   ]
  }
 ],
 "metadata": {
  "anaconda-cloud": {},
  "kernelspec": {
   "display_name": "Python [conda env:bml]",
   "language": "python",
   "name": "conda-env-bml-py"
  },
  "language_info": {
   "codemirror_mode": {
    "name": "ipython",
    "version": 2
   },
   "file_extension": ".py",
   "mimetype": "text/x-python",
   "name": "python",
   "nbconvert_exporter": "python",
   "pygments_lexer": "ipython2",
   "version": "2.7.13"
  }
 },
 "nbformat": 4,
 "nbformat_minor": 1
}
